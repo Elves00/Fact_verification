{
 "cells": [
  {
   "cell_type": "markdown",
   "metadata": {},
   "source": [
    "Keras Classifier\n"
   ]
  },
  {
   "cell_type": "code",
   "execution_count": 36,
   "metadata": {},
   "outputs": [],
   "source": [
    "import pandas as pd\n",
    "from datasets import  load_dataset\n",
    "\n",
    "import keras\n",
    "from keras import layers\n",
    "import tensorflow as tf\n",
    "from transformers import BertTokenizer, DataCollatorWithPadding\n",
    "import numpy as np\n",
    "import keras.backend as K\n",
    "from sklearn.preprocessing import OneHotEncoder\n"
   ]
  },
  {
   "cell_type": "markdown",
   "metadata": {},
   "source": [
    "Tokenizer \n",
    "\n",
    "Bert-base-uncased a 110 million paramater corpus which disregards captilisation"
   ]
  },
  {
   "cell_type": "code",
   "execution_count": 31,
   "metadata": {},
   "outputs": [],
   "source": [
    "dataset = load_dataset(\"Brecon/Train_Test\")\n",
    "tokenizer = BertTokenizer.from_pretrained(\"bert-base-uncased\")\n",
    "\n",
    "def preprocess_function(token):\n",
    "    return tokenizer(token[\"text\"], truncation=True, padding=\"max_length\", max_length=512)"
   ]
  },
  {
   "cell_type": "markdown",
   "metadata": {},
   "source": []
  },
  {
   "cell_type": "code",
   "execution_count": 32,
   "metadata": {},
   "outputs": [
    {
     "data": {
      "application/vnd.jupyter.widget-view+json": {
       "model_id": "f6f16c7fdb5c4d63b47840ba356b9c28",
       "version_major": 2,
       "version_minor": 0
      },
      "text/plain": [
       "Map:   0%|          | 0/122 [00:00<?, ? examples/s]"
      ]
     },
     "metadata": {},
     "output_type": "display_data"
    },
    {
     "data": {
      "application/vnd.jupyter.widget-view+json": {
       "model_id": "571ed1c97dcb4127b3713313d40b7275",
       "version_major": 2,
       "version_minor": 0
      },
      "text/plain": [
       "Map:   0%|          | 0/31 [00:00<?, ? examples/s]"
      ]
     },
     "metadata": {},
     "output_type": "display_data"
    }
   ],
   "source": [
    "tokenized_dataset = dataset.map(preprocess_function,batched=True)\n",
    "data_collator = DataCollatorWithPadding(tokenizer=tokenizer, return_tensors=\"pt\")"
   ]
  },
  {
   "cell_type": "markdown",
   "metadata": {},
   "source": []
  },
  {
   "cell_type": "code",
   "execution_count": 57,
   "metadata": {},
   "outputs": [],
   "source": [
    "def f1_score(y_true, y_pred):\n",
    "    true_positives = K.sum(K.round(K.clip(y_true * y_pred, 0, 1)))\n",
    "    possible_positives = K.sum(K.round(K.clip(y_true, 0, 1)))\n",
    "    predicted_positives = K.sum(K.round(K.clip(y_pred, 0, 1)))\n",
    "\n",
    "    precision = true_positives / (predicted_positives + K.epsilon())\n",
    "    recall = true_positives / (possible_positives + K.epsilon())\n",
    "\n",
    "    f1 = 2 * (precision * recall) / (precision + recall + K.epsilon())\n",
    "    return f1\n"
   ]
  },
  {
   "cell_type": "code",
   "execution_count": 34,
   "metadata": {},
   "outputs": [
    {
     "name": "stdout",
     "output_type": "stream",
     "text": [
      "Dataset({\n",
      "    features: ['label', 'text', 'input_ids', 'token_type_ids', 'attention_mask'],\n",
      "    num_rows: 122\n",
      "})\n"
     ]
    }
   ],
   "source": [
    "print(tokenized_dataset['train'])"
   ]
  },
  {
   "cell_type": "code",
   "execution_count": 58,
   "metadata": {},
   "outputs": [
    {
     "name": "stdout",
     "output_type": "stream",
     "text": [
      "Epoch 1/3\n",
      "4/4 [==============================] - 2s 7ms/step - loss: 146.2339 - accuracy: 0.3689 - f1_score: 0.3660\n",
      "Epoch 2/3\n",
      "4/4 [==============================] - 0s 9ms/step - loss: 35.4341 - accuracy: 0.4344 - f1_score: 0.4321\n",
      "Epoch 3/3\n",
      "4/4 [==============================] - 0s 8ms/step - loss: 16.0259 - accuracy: 0.5000 - f1_score: 0.4891\n",
      "1/1 [==============================] - 0s 395ms/step - loss: 17.8004 - accuracy: 0.4516 - f1_score: 0.4516\n",
      "Validation Loss: 17.800424575805664\n",
      "Validation Accuracy: 0.4516128897666931\n",
      "F1-Score: 0.45161283016204834\n",
      "Epoch 1/3\n",
      "4/4 [==============================] - 5s 13ms/step - loss: 1.2812 - accuracy: 0.4262 - f1_score: 0.2679\n",
      "Epoch 2/3\n",
      "4/4 [==============================] - 0s 20ms/step - loss: 1.0370 - accuracy: 0.4508 - f1_score: 0.3918\n",
      "Epoch 3/3\n",
      "4/4 [==============================] - 0s 21ms/step - loss: 0.9789 - accuracy: 0.4754 - f1_score: 0.2839\n",
      "1/1 [==============================] - 1s 509ms/step - loss: 1.0157 - accuracy: 0.3548 - f1_score: 0.3729\n",
      "Validation Loss: 1.015738606452942\n",
      "Validation Accuracy: 0.35483869910240173\n",
      "F1-Score: 0.37288129329681396\n",
      "Epoch 1/3\n",
      "4/4 [==============================] - 6s 20ms/step - loss: 1.0060 - accuracy: 0.4262 - f1_score: 0.2005\n",
      "Epoch 2/3\n",
      "4/4 [==============================] - 0s 22ms/step - loss: 0.9316 - accuracy: 0.5000 - f1_score: 0.3001\n",
      "Epoch 3/3\n",
      "4/4 [==============================] - 0s 21ms/step - loss: 0.8396 - accuracy: 0.4508 - f1_score: 0.3200\n",
      "1/1 [==============================] - 1s 600ms/step - loss: 0.9202 - accuracy: 0.3548 - f1_score: 0.3051\n",
      "Validation Loss: 0.9201705455780029\n",
      "Validation Accuracy: 0.35483869910240173\n",
      "F1-Score: 0.3050846755504608\n",
      "Epoch 1/3\n",
      "4/4 [==============================] - 8s 25ms/step - loss: 1.0968 - accuracy: 0.4098 - f1_score: 0.0000e+00\n",
      "Epoch 2/3\n",
      "4/4 [==============================] - 0s 32ms/step - loss: 1.0636 - accuracy: 0.5000 - f1_score: 0.1058\n",
      "Epoch 3/3\n",
      "4/4 [==============================] - 0s 30ms/step - loss: 0.9030 - accuracy: 0.4836 - f1_score: 0.0957\n",
      "1/1 [==============================] - 1s 1s/step - loss: 0.8762 - accuracy: 0.6129 - f1_score: 0.1176\n",
      "Validation Loss: 0.8762190937995911\n",
      "Validation Accuracy: 0.6129032373428345\n",
      "F1-Score: 0.11764703691005707\n",
      "Epoch 1/3\n",
      "4/4 [==============================] - 12s 34ms/step - loss: 1.0573 - accuracy: 0.4180 - f1_score: 0.0806\n",
      "Epoch 2/3\n",
      "4/4 [==============================] - 0s 31ms/step - loss: 0.9619 - accuracy: 0.5000 - f1_score: 0.0172\n",
      "Epoch 3/3\n",
      "4/4 [==============================] - 0s 30ms/step - loss: 0.9020 - accuracy: 0.5000 - f1_score: 0.4987\n",
      "1/1 [==============================] - 1s 704ms/step - loss: 0.8858 - accuracy: 0.3548 - f1_score: 0.2105\n",
      "Validation Loss: 0.8858214616775513\n",
      "Validation Accuracy: 0.35483869910240173\n",
      "F1-Score: 0.2105262726545334\n",
      "Epoch 1/3\n",
      "4/4 [==============================] - 13s 31ms/step - loss: 1.0746 - accuracy: 0.4426 - f1_score: 0.0000e+00\n",
      "Epoch 2/3\n",
      "4/4 [==============================] - 0s 29ms/step - loss: 1.0330 - accuracy: 0.3770 - f1_score: 0.0565\n",
      "Epoch 3/3\n",
      "4/4 [==============================] - 0s 33ms/step - loss: 0.9723 - accuracy: 0.5000 - f1_score: 0.0395\n",
      "1/1 [==============================] - 1s 778ms/step - loss: 0.9353 - accuracy: 0.3548 - f1_score: 0.3051\n",
      "Validation Loss: 0.9353470802307129\n",
      "Validation Accuracy: 0.35483869910240173\n",
      "F1-Score: 0.3050847053527832\n",
      "Epoch 1/3\n",
      "4/4 [==============================] - 14s 40ms/step - loss: 1.0022 - accuracy: 0.4344 - f1_score: 0.2184\n",
      "Epoch 2/3\n",
      "4/4 [==============================] - 0s 43ms/step - loss: 1.0506 - accuracy: 0.5000 - f1_score: 0.0000e+00\n",
      "Epoch 3/3\n",
      "4/4 [==============================] - 0s 39ms/step - loss: 1.0652 - accuracy: 0.5000 - f1_score: 0.0000e+00\n",
      "1/1 [==============================] - 1s 1s/step - loss: 1.0466 - accuracy: 0.3548 - f1_score: 0.0000e+00\n",
      "Validation Loss: 1.0465694665908813\n",
      "Validation Accuracy: 0.35483869910240173\n",
      "F1-Score: 0.0\n",
      "Epoch 1/3\n",
      "4/4 [==============================] - 16s 44ms/step - loss: 1.0691 - accuracy: 0.5000 - f1_score: 0.0172\n",
      "Epoch 2/3\n",
      "4/4 [==============================] - 0s 41ms/step - loss: 0.9179 - accuracy: 0.4508 - f1_score: 0.1484\n",
      "Epoch 3/3\n",
      "4/4 [==============================] - 0s 46ms/step - loss: 0.9264 - accuracy: 0.4180 - f1_score: 0.2233\n",
      "1/1 [==============================] - 1s 922ms/step - loss: 0.8529 - accuracy: 0.6129 - f1_score: 0.6129\n",
      "Validation Loss: 0.8529485464096069\n",
      "Validation Accuracy: 0.6129032373428345\n",
      "F1-Score: 0.6129031777381897\n",
      "Epoch 1/3\n",
      "4/4 [==============================] - 15s 39ms/step - loss: 1.0929 - accuracy: 0.2951 - f1_score: 0.0000e+00\n",
      "Epoch 2/3\n",
      "4/4 [==============================] - 0s 42ms/step - loss: 1.0227 - accuracy: 0.4262 - f1_score: 0.0000e+00\n",
      "Epoch 3/3\n",
      "4/4 [==============================] - 0s 42ms/step - loss: 0.9334 - accuracy: 0.5000 - f1_score: 0.3672\n",
      "1/1 [==============================] - 1s 901ms/step - loss: 0.8813 - accuracy: 0.6129 - f1_score: 0.0000e+00\n",
      "Validation Loss: 0.881331205368042\n",
      "Validation Accuracy: 0.6129032373428345\n",
      "F1-Score: 0.0\n",
      "Epoch 1/3\n",
      "4/4 [==============================] - 14s 33ms/step - loss: 1.0765 - accuracy: 0.4180 - f1_score: 0.0000e+00\n",
      "Epoch 2/3\n",
      "4/4 [==============================] - 0s 34ms/step - loss: 0.9140 - accuracy: 0.5164 - f1_score: 0.3941\n",
      "Epoch 3/3\n",
      "4/4 [==============================] - 0s 36ms/step - loss: 0.9573 - accuracy: 0.5000 - f1_score: 0.0286\n",
      "1/1 [==============================] - 1s 735ms/step - loss: 1.0247 - accuracy: 0.3548 - f1_score: 0.0000e+00\n",
      "Validation Loss: 1.0247355699539185\n",
      "Validation Accuracy: 0.35483869910240173\n",
      "F1-Score: 0.0\n",
      "Epoch 1/3\n",
      "4/4 [==============================] - 14s 48ms/step - loss: 1.0961 - accuracy: 0.2869 - f1_score: 0.0000e+00\n",
      "Epoch 2/3\n",
      "4/4 [==============================] - 0s 48ms/step - loss: 1.0726 - accuracy: 0.5000 - f1_score: 0.0000e+00\n",
      "Epoch 3/3\n",
      "4/4 [==============================] - 0s 48ms/step - loss: 0.9592 - accuracy: 0.4098 - f1_score: 0.1538\n",
      "1/1 [==============================] - 1s 803ms/step - loss: 0.9687 - accuracy: 0.3548 - f1_score: 0.3548\n",
      "Validation Loss: 0.968664824962616\n",
      "Validation Accuracy: 0.35483869910240173\n",
      "F1-Score: 0.35483863949775696\n",
      "Epoch 1/3\n",
      "4/4 [==============================] - 17s 58ms/step - loss: 1.3688 - accuracy: 0.5000 - f1_score: 0.3383\n",
      "Epoch 2/3\n",
      "4/4 [==============================] - 0s 49ms/step - loss: 1.0550 - accuracy: 0.3607 - f1_score: 0.0000e+00\n",
      "Epoch 3/3\n",
      "4/4 [==============================] - 0s 48ms/step - loss: 1.0654 - accuracy: 0.4180 - f1_score: 0.0000e+00\n",
      "1/1 [==============================] - 1s 885ms/step - loss: 1.0421 - accuracy: 0.6129 - f1_score: 0.0000e+00\n",
      "Validation Loss: 1.0420632362365723\n",
      "Validation Accuracy: 0.6129032373428345\n",
      "F1-Score: 0.0\n",
      "Epoch 1/3\n",
      "4/4 [==============================] - 18s 62ms/step - loss: 1.0860 - accuracy: 0.4754 - f1_score: 0.0000e+00\n",
      "Epoch 2/3\n",
      "4/4 [==============================] - 0s 57ms/step - loss: 0.9566 - accuracy: 0.5000 - f1_score: 0.0781\n",
      "Epoch 3/3\n",
      "4/4 [==============================] - 0s 59ms/step - loss: 0.9672 - accuracy: 0.5000 - f1_score: 0.2344\n",
      "1/1 [==============================] - 1s 928ms/step - loss: 0.9122 - accuracy: 0.3548 - f1_score: 0.0000e+00\n",
      "Validation Loss: 0.9122293591499329\n",
      "Validation Accuracy: 0.35483869910240173\n",
      "F1-Score: 0.0\n",
      "Epoch 1/3\n",
      "4/4 [==============================] - 19s 68ms/step - loss: 1.0893 - accuracy: 0.4016 - f1_score: 0.0000e+00\n",
      "Epoch 2/3\n",
      "4/4 [==============================] - 0s 67ms/step - loss: 0.9734 - accuracy: 0.4754 - f1_score: 0.1094\n",
      "Epoch 3/3\n",
      "4/4 [==============================] - 0s 69ms/step - loss: 0.9698 - accuracy: 0.5000 - f1_score: 0.0000e+00\n",
      "1/1 [==============================] - 1s 1s/step - loss: 0.8897 - accuracy: 0.3548 - f1_score: 0.3548\n",
      "Validation Loss: 0.8897146582603455\n",
      "Validation Accuracy: 0.35483869910240173\n",
      "F1-Score: 0.35483866930007935\n",
      "Epoch 1/3\n",
      "4/4 [==============================] - 21s 49ms/step - loss: 1.0710 - accuracy: 0.4754 - f1_score: 0.1058\n",
      "Epoch 2/3\n",
      "4/4 [==============================] - 0s 49ms/step - loss: 1.0164 - accuracy: 0.4180 - f1_score: 0.0000e+00\n",
      "Epoch 3/3\n",
      "4/4 [==============================] - 0s 57ms/step - loss: 1.0425 - accuracy: 0.4180 - f1_score: 0.0000e+00\n",
      "1/1 [==============================] - 1s 1s/step - loss: 0.9824 - accuracy: 0.6129 - f1_score: 0.0000e+00\n",
      "Validation Loss: 0.9823710918426514\n",
      "Validation Accuracy: 0.6129032373428345\n",
      "F1-Score: 0.0\n",
      "Epoch 1/3\n",
      "4/4 [==============================] - 21s 97ms/step - loss: 1.2161 - accuracy: 0.4508 - f1_score: 0.1154\n",
      "Epoch 2/3\n",
      "4/4 [==============================] - 0s 103ms/step - loss: 0.9849 - accuracy: 0.4180 - f1_score: 0.0000e+00\n",
      "Epoch 3/3\n",
      "4/4 [==============================] - 0s 102ms/step - loss: 1.0385 - accuracy: 0.4180 - f1_score: 0.0000e+00\n",
      "1/1 [==============================] - 1s 1s/step - loss: 0.9919 - accuracy: 0.6129 - f1_score: 0.0000e+00\n",
      "Validation Loss: 0.9919145703315735\n",
      "Validation Accuracy: 0.6129032373428345\n",
      "F1-Score: 0.0\n",
      "Epoch 1/3\n",
      "4/4 [==============================] - 23s 77ms/step - loss: 1.0864 - accuracy: 0.5000 - f1_score: 0.0000e+00\n",
      "Epoch 2/3\n",
      "4/4 [==============================] - 0s 75ms/step - loss: 1.0101 - accuracy: 0.5000 - f1_score: 0.1250\n",
      "Epoch 3/3\n",
      "4/4 [==============================] - 0s 76ms/step - loss: 0.9882 - accuracy: 0.4180 - f1_score: 0.0000e+00\n",
      "1/1 [==============================] - 1s 1s/step - loss: 0.8903 - accuracy: 0.6129 - f1_score: 0.0000e+00\n",
      "Validation Loss: 0.8902875185012817\n",
      "Validation Accuracy: 0.6129032373428345\n",
      "F1-Score: 0.0\n",
      "Epoch 1/3\n",
      "4/4 [==============================] - 24s 124ms/step - loss: 1.1125 - accuracy: 0.5000 - f1_score: 0.1058\n",
      "Epoch 2/3\n",
      "4/4 [==============================] - 0s 122ms/step - loss: 1.0272 - accuracy: 0.5000 - f1_score: 0.0000e+00\n",
      "Epoch 3/3\n",
      "4/4 [==============================] - 1s 159ms/step - loss: 1.0486 - accuracy: 0.5000 - f1_score: 0.0000e+00\n",
      "1/1 [==============================] - 2s 2s/step - loss: 1.0178 - accuracy: 0.3548 - f1_score: 0.0000e+00\n",
      "Validation Loss: 1.0177819728851318\n",
      "Validation Accuracy: 0.35483869910240173\n",
      "F1-Score: 0.0\n",
      "Epoch 1/3\n",
      "4/4 [==============================] - 29s 79ms/step - loss: 1.0917 - accuracy: 0.4180 - f1_score: 0.0000e+00\n",
      "Epoch 2/3\n",
      "4/4 [==============================] - 0s 80ms/step - loss: 0.9909 - accuracy: 0.5000 - f1_score: 0.1328\n",
      "Epoch 3/3\n",
      "4/4 [==============================] - 0s 81ms/step - loss: 0.9622 - accuracy: 0.3934 - f1_score: 0.1821\n",
      "1/1 [==============================] - 1s 1s/step - loss: 0.8446 - accuracy: 0.6129 - f1_score: 0.0000e+00\n",
      "Validation Loss: 0.8446354866027832\n",
      "Validation Accuracy: 0.6129032373428345\n",
      "F1-Score: 0.0\n",
      "Epoch 1/3\n",
      "4/4 [==============================] - 29s 141ms/step - loss: 1.1012 - accuracy: 0.5000 - f1_score: 0.1094\n",
      "Epoch 2/3\n",
      "4/4 [==============================] - 1s 135ms/step - loss: 1.0665 - accuracy: 0.5000 - f1_score: 0.0000e+00\n",
      "Epoch 3/3\n",
      "4/4 [==============================] - 1s 170ms/step - loss: 1.0439 - accuracy: 0.5000 - f1_score: 0.0000e+00\n",
      "1/1 [==============================] - 1s 1s/step - loss: 1.0085 - accuracy: 0.3548 - f1_score: 0.0000e+00\n",
      "Validation Loss: 1.0085337162017822\n",
      "Validation Accuracy: 0.35483869910240173\n",
      "F1-Score: 0.0\n"
     ]
    }
   ],
   "source": [
    "# Create a Keras model for classification\n",
    "\n",
    "num_classes = 3\n",
    "classifier_inputs = tf.keras.Input(shape=(512,))\n",
    "dense_layer = layers.Dense(128, activation='relu')(classifier_inputs)\n",
    "train_label = []\n",
    "test_label = []\n",
    "values = []\n",
    "\n",
    "for label in tokenized_dataset['train']['label']:\n",
    "    one_shot_label = [0,0,0]\n",
    "    one_shot_label[label] = 1\n",
    "    train_label.append(one_shot_label)\n",
    "\n",
    "for label in tokenized_dataset['test']['label']:\n",
    "    one_shot_label = [0,0,0]\n",
    "    one_shot_label[label] = 1\n",
    "    test_label.append(one_shot_label)\n",
    "\n",
    "\n",
    "for _ in range(20):\n",
    "    # Add 10 additional dense layers\n",
    "    for _ in range(10):\n",
    "        dense_layer = layers.Dense(128, activation='relu')(dense_layer)\n",
    "\n",
    "    # Classification layer\n",
    "    output_layer = layers.Dense(num_classes, activation='softmax')(dense_layer)\n",
    "\n",
    "    # Set up the model with classifier\n",
    "    model = keras.Model(inputs=classifier_inputs, outputs=output_layer)\n",
    "\n",
    "    # Compile the model with an appropriate loss function and optimizer\n",
    "    model.compile(loss='categorical_crossentropy', optimizer='adam', metrics=['accuracy', f1_score])\n",
    "\n",
    "    # Convert target values to one-hot encoded arrays\n",
    "    num_classes = 3  # Set the correct number of classes (3 for your case)\n",
    "    input_shape = model.layers[0].input_shape\n",
    "\n",
    "    # Train the model\n",
    "    model.fit(tokenized_dataset['train']['input_ids'], train_label, batch_size=32, epochs=3)\n",
    "\n",
    "    # Evaluate model on the test set\n",
    "    loss,accuracy,f1 = model.evaluate(tokenized_dataset['test']['input_ids'], test_label)\n",
    "    values.append([f1,accuracy])"
   ]
  },
  {
   "cell_type": "code",
   "execution_count": 61,
   "metadata": {},
   "outputs": [
    {
     "name": "stdout",
     "output_type": "stream",
     "text": [
      "0.4629032239317894\n",
      "0.15427086502313614\n"
     ]
    }
   ],
   "source": [
    "acc_avg = 0\n",
    "f1_avg = 0\n",
    "for value in values:\n",
    "    acc_avg += value[1]\n",
    "    f1_avg += value[0]\n",
    "\n",
    "acc_avg = acc_avg/20\n",
    "f1_avg = f1_avg/20\n",
    "print(acc_avg)\n",
    "print(f1_avg)"
   ]
  },
  {
   "cell_type": "code",
   "execution_count": null,
   "metadata": {},
   "outputs": [],
   "source": [
    "master_dataset = load_dataset('Brecon/Master_Train_Test')\n",
    "\n",
    "new_tokenized_dataset = master_dataset.map(preprocess_function, batched=True)\n",
    "\n",
    "predictions = model.predict(new_tokenized_dataset['test']['input_ids'])\n",
    "\n",
    "prediction_array =[]\n",
    "for i in predictions:\n",
    "    prediction_array.append(np.argmax(i))\n",
    "\n"
   ]
  },
  {
   "cell_type": "code",
   "execution_count": 70,
   "metadata": {},
   "outputs": [
    {
     "name": "stdout",
     "output_type": "stream",
     "text": [
      "0.30326390027882566 0.4725274725274725 0.2232822122932013\n"
     ]
    },
    {
     "name": "stderr",
     "output_type": "stream",
     "text": [
      "c:\\Users\\breco\\anaconda3\\envs\\comp815\\lib\\site-packages\\sklearn\\metrics\\_classification.py:1344: UndefinedMetricWarning: Precision is ill-defined and being set to 0.0 in labels with no predicted samples. Use `zero_division` parameter to control this behavior.\n",
      "  _warn_prf(average, modifier, msg_start, len(result))\n"
     ]
    }
   ],
   "source": [
    "from sklearn.metrics import accuracy_score, balanced_accuracy_score, f1_score, recall_score, precision_score\n",
    "\n",
    "f1 = f1_score(new_tokenized_dataset['test']['label'], prediction_array, average=\"weighted\")\n",
    "recall = recall_score(new_tokenized_dataset['test']['label'], prediction_array, average=\"weighted\")\n",
    "precision = precision_score(new_tokenized_dataset['test']['label'], prediction_array, average=\"weighted\")\n",
    "\n",
    "print(f1,recall,precision)"
   ]
  }
 ],
 "metadata": {
  "kernelspec": {
   "display_name": "comp815",
   "language": "python",
   "name": "comp815"
  },
  "language_info": {
   "codemirror_mode": {
    "name": "ipython",
    "version": 3
   },
   "file_extension": ".py",
   "mimetype": "text/x-python",
   "name": "python",
   "nbconvert_exporter": "python",
   "pygments_lexer": "ipython3",
   "version": "3.9.16"
  }
 },
 "nbformat": 4,
 "nbformat_minor": 2
}
